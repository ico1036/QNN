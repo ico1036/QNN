{
  "nbformat": 4,
  "nbformat_minor": 0,
  "metadata": {
    "colab": {
      "name": "Multi_armed_sample_average.ipynb",
      "provenance": [],
      "authorship_tag": "ABX9TyNoSz1hRrQ3kA0xgiC4g2vF",
      "include_colab_link": true
    },
    "kernelspec": {
      "name": "python3",
      "display_name": "Python 3"
    }
  },
  "cells": [
    {
      "cell_type": "markdown",
      "metadata": {
        "id": "view-in-github",
        "colab_type": "text"
      },
      "source": [
        "<a href=\"https://colab.research.google.com/github/ico1036/QNN/blob/master/Multi_armed_sample_average.ipynb\" target=\"_parent\"><img src=\"https://colab.research.google.com/assets/colab-badge.svg\" alt=\"Open In Colab\"/></a>"
      ]
    },
    {
      "cell_type": "markdown",
      "metadata": {
        "id": "n6rQXLo0snMt",
        "colab_type": "text"
      },
      "source": [
        "### Sample average vs Constant Average  \n",
        "Jiwoong Kim (2019324669)"
      ]
    },
    {
      "cell_type": "code",
      "metadata": {
        "id": "WFKdS5nbnK1I",
        "colab_type": "code",
        "colab": {}
      },
      "source": [
        "import numpy as np\n",
        "import matplotlib.pyplot as plt\n",
        "\n",
        "ACTION = 10\n",
        "ALPHA = 0.1\n",
        "EPSILON = 0.1\n",
        "S_ACTION_LIST = [0.0, 0.0, 0.0, 0.0, 0.0, 0.0, 0.0, 0.0, 0.0, 0.0]\n",
        "C_ACTION_LIST= [0.0, 0.0, 0.0, 0.0, 0.0, 0.0, 0.0, 0.0, 0.0, 0.0]\n",
        "N_selected=[0, 0, 0, 0, 0, 0, 0, 0, 0, 0]"
      ],
      "execution_count": 1,
      "outputs": []
    },
    {
      "cell_type": "code",
      "metadata": {
        "id": "PPCq2ZoynOy5",
        "colab_type": "code",
        "colab": {}
      },
      "source": [
        "def sample_average(Q, n):\n",
        "    n+=1\n",
        "    reward_pdf = np.random.normal(0, 0.01, 1000)\n",
        "    reward = np.random.choice(reward_pdf, 1)\n",
        "    \n",
        "    return Q + (1./n)*(reward - Q)"
      ],
      "execution_count": 2,
      "outputs": []
    },
    {
      "cell_type": "code",
      "metadata": {
        "id": "Pwg3fF_XnQeQ",
        "colab_type": "code",
        "colab": {}
      },
      "source": [
        "def constant_average(Q):\n",
        "    reward_pdf = np.random.normal(0, 0.01, 1000)\n",
        "    reward = np.random.choice(reward_pdf, 1)\n",
        "    \n",
        "    return Q + ALPHA*(reward - Q)"
      ],
      "execution_count": 3,
      "outputs": []
    },
    {
      "cell_type": "code",
      "metadata": {
        "id": "D9DRVziRnS38",
        "colab_type": "code",
        "colab": {}
      },
      "source": [
        "def sample_avg_reward():\n",
        "    reward_list= []\n",
        "    \n",
        "    for step in range(10000):\n",
        "        a_idx = np.argmax(S_ACTION_LIST)\n",
        "\n",
        "        if np.random.rand(1) > EPSILON:\n",
        "                # --> greedy action \n",
        "            S_ACTION_LIST[a_idx] = sample_average(S_ACTION_LIST[a_idx], N_selected[a_idx])\n",
        "        else:   # --> Random action\n",
        "            index = np.random.randint(10, size=1)[0]\n",
        "        \n",
        "            S_ACTION_LIST[index] = sample_average(S_ACTION_LIST[index], N_selected[index])\n",
        "            \n",
        "        reward_list.append(sum(S_ACTION_LIST) / (step+1))        \n",
        "        \n",
        "    return reward_list"
      ],
      "execution_count": 4,
      "outputs": []
    },
    {
      "cell_type": "code",
      "metadata": {
        "id": "bmwcnY1fnU63",
        "colab_type": "code",
        "colab": {}
      },
      "source": [
        "def constant_avg_reward():\n",
        "    reward_list=[]\n",
        "    \n",
        "    for step in range(10000):\n",
        "        a_idx = np.argmax(C_ACTION_LIST)\n",
        "       \n",
        "        if np.random.rand(1) > EPSILON:\n",
        "            C_ACTION_LIST[a_idx] = constant_average(C_ACTION_LIST[a_idx])\n",
        "        else:\n",
        "            index = np.random.randint(10, size=1)[0]\n",
        "        \n",
        "            C_ACTION_LIST[index] = constant_average(C_ACTION_LIST[index])\n",
        "            \n",
        "        reward_list.append(sum(C_ACTION_LIST) / (step+1))\n",
        "        \n",
        "    return reward_list"
      ],
      "execution_count": 5,
      "outputs": []
    },
    {
      "cell_type": "code",
      "metadata": {
        "id": "3kEObW0XnYZW",
        "colab_type": "code",
        "colab": {}
      },
      "source": [
        "sample_reward=sample_avg_reward()\n",
        "const_reward =constant_avg_reward()"
      ],
      "execution_count": 6,
      "outputs": []
    },
    {
      "cell_type": "code",
      "metadata": {
        "id": "iL7hFnkYnZyg",
        "colab_type": "code",
        "colab": {
          "base_uri": "https://localhost:8080/",
          "height": 283
        },
        "outputId": "405561da-b863-48dc-914d-5eaeef1a8acd"
      },
      "source": [
        "plt.plot(sample_reward, label='sample')\n",
        "plt.plot(const_reward, label='const')\n",
        "    \n",
        "plt.ylim(-0.0005, 0.0001)\n",
        "plt.xlabel('steps')\n",
        "plt.ylabel('avg reward')\n",
        "plt.legend()\n",
        "    \n",
        "plt.show()"
      ],
      "execution_count": 7,
      "outputs": [
        {
          "output_type": "display_data",
          "data": {
            "image/png": "[encoded data removed]",
            "text/plain": [
              "<Figure size 432x288 with 1 Axes>"
            ]
          },
          "metadata": {
            "tags": [],
            "needs_background": "light"
          }
        }
      ]
    },
    {
      "cell_type": "code",
      "metadata": {
        "id": "8dMhSJ_wn4nF",
        "colab_type": "code",
        "colab": {}
      },
      "source": [
        "plt.close()"
      ],
      "execution_count": 9,
      "outputs": []
    },
    {
      "cell_type": "markdown",
      "metadata": {
        "id": "XOkiAALis5WH",
        "colab_type": "text"
      },
      "source": [
        "Result: Constant average converges faster than constant average"
      ]
    },
    {
      "cell_type": "code",
      "metadata": {
        "id": "gUgai_OztC0L",
        "colab_type": "code",
        "colab": {}
      },
      "source": [
        ""
      ],
      "execution_count": null,
      "outputs": []
    }
  ]
}