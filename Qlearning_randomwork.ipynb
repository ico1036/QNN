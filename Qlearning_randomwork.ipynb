{
  "nbformat": 4,
  "nbformat_minor": 0,
  "metadata": {
    "colab": {
      "name": "Qlearning_randomwork.ipynb",
      "provenance": [],
      "collapsed_sections": [],
      "authorship_tag": "ABX9TyO6QFp7EDa3p0Hiq2o3YqSH",
      "include_colab_link": true
    },
    "kernelspec": {
      "name": "python3",
      "display_name": "Python 3"
    }
  },
  "cells": [
    {
      "cell_type": "markdown",
      "metadata": {
        "id": "view-in-github",
        "colab_type": "text"
      },
      "source": [
        "<a href=\"https://colab.research.google.com/github/ico1036/QNN/blob/master/Qlearning_randomwork.ipynb\" target=\"_parent\"><img src=\"https://colab.research.google.com/assets/colab-badge.svg\" alt=\"Open In Colab\"/></a>"
      ]
    },
    {
      "cell_type": "code",
      "metadata": {
        "id": "dRY6-lFl7Srg",
        "colab_type": "code",
        "colab": {}
      },
      "source": [
        "import numpy as np\n",
        "import matplotlib\n",
        "import matplotlib.pyplot as plt"
      ],
      "execution_count": 0,
      "outputs": []
    },
    {
      "cell_type": "markdown",
      "metadata": {
        "id": "w74mqDdedJPt",
        "colab_type": "text"
      },
      "source": [
        "\n",
        "## Examples for Q-learning: 7 states random work ( table lookup method )  \n",
        " ##### * HW of Rainforcement learning class in KNU 2020 06 15   \n",
        " ##### * Copyright: **Jiwoong Kim** /  2019324669 / Dept of Physics \n",
        "  \n",
        "\n",
        "### Definition of environments  \n",
        "![대체 텍스트](https://github.com/ico1036/QNN/blob/master/DataScience/Qlearning/RandomWalk.PNG?raw=true)\n",
        "- 7 satetes including two terminal states\n",
        "- 50% go left 50% go right\n",
        "- Start at point C\n",
        "- Goal: reach the end of right side"
      ]
    },
    {
      "cell_type": "code",
      "metadata": {
        "id": "MaS-nzMs7UUU",
        "colab_type": "code",
        "outputId": "f3b2647f-bfb2-4dc2-8b54-81c3c524ae5b",
        "colab": {
          "base_uri": "https://localhost:8080/",
          "height": 53
        }
      },
      "source": [
        "## Define states \n",
        "N_STATES = 5\n",
        "STATES = np.arange(0, N_STATES+2)\n",
        "START_STATE = 3\n",
        "\n",
        "END_0 = 0\n",
        "END_1 = 6\n",
        "END_STATES = [END_0,END_1]\n",
        "print(STATES)\n",
        "print(END_STATES)"
      ],
      "execution_count": 0,
      "outputs": [
        {
          "output_type": "stream",
          "text": [
            "[0 1 2 3 4 5 6]\n",
            "[0, 6]\n"
          ],
          "name": "stdout"
        }
      ]
    },
    {
      "cell_type": "markdown",
      "metadata": {
        "id": "vxJwNbXAiCKI",
        "colab_type": "text"
      },
      "source": [
        "### Q-Learning  \n",
        "#### Q(S,A) = Q(S,A) + $\\alpha(R + \\gamma$ $argmax_{A'}$Q(S',A') - Q(S,A) )  \n",
        " - Q(S,A): Action value function of Behavior policy  \n",
        " - Q(S',A'): Action value function of Target policy of new step(state)  \n",
        " - $\\alpha$: learning rate  \n",
        " - $\\gamma$: Discount factor\n",
        "\n",
        "#### $\\epsilon$ greedy method  \n",
        " - $\\epsilon$ : Do random action\n",
        " - 1-$\\epsilon$ : Do greedy action  \n",
        "Why? : To avoid biased training \n",
        "\n",
        "---\n",
        "Initialize parameters\n"
      ]
    },
    {
      "cell_type": "code",
      "metadata": {
        "id": "0y-Aj8Jp7eny",
        "colab_type": "code",
        "outputId": "7cd5ab04-a5e0-4622-9f1d-587fc1038c6b",
        "colab": {
          "base_uri": "https://localhost:8080/",
          "height": 143
        }
      },
      "source": [
        "## Initializer Q tables , Episode, Hyper parameters\n",
        "episode = 50000\n",
        "Q = np.zeros([N_STATES+2,2])\n",
        "dis = 0.999  # Discount factor\n",
        "e = 0.999 # Episilon\n",
        "lr=0.1 # Learning rate\n",
        "print(Q)"
      ],
      "execution_count": 0,
      "outputs": [
        {
          "output_type": "stream",
          "text": [
            "[[0. 0.]\n",
            " [0. 0.]\n",
            " [0. 0.]\n",
            " [0. 0.]\n",
            " [0. 0.]\n",
            " [0. 0.]\n",
            " [0. 0.]]\n"
          ],
          "name": "stdout"
        }
      ]
    },
    {
      "cell_type": "markdown",
      "metadata": {
        "id": "MvvUz3FikqX4",
        "colab_type": "text"
      },
      "source": [
        "---\n",
        "Useful functions"
      ]
    },
    {
      "cell_type": "code",
      "metadata": {
        "id": "KNqDgZNDlEUg",
        "colab_type": "code",
        "colab": {}
      },
      "source": [
        "## Find Max Q\n",
        "def qmax_action(four_q):\n",
        "  # Find Action that maxmize Q\n",
        "  maxq = np.amax(four_q)\n",
        "  indices = np.nonzero(four_q == maxq)[0]\n",
        "  return pr.choice(indices)"
      ],
      "execution_count": 0,
      "outputs": []
    },
    {
      "cell_type": "code",
      "metadata": {
        "id": "pL_qlPDS-wVG",
        "colab_type": "code",
        "colab": {}
      },
      "source": [
        "## Function for choosing action\n",
        "def chooseAction(action_arr):\n",
        "  action = np.random.choice(action_arr)\n",
        "  return action"
      ],
      "execution_count": 0,
      "outputs": []
    },
    {
      "cell_type": "code",
      "metadata": {
        "id": "Yx90Sk6f_HX3",
        "colab_type": "code",
        "colab": {}
      },
      "source": [
        "## Function for taking action\n",
        "def takeAction(state,action,end):\n",
        "  new_state =  state\n",
        "  if not end:\n",
        "    if action == 0:\n",
        "      new_state = state - 1\n",
        "    else:\n",
        "      new_state = state + 1\n",
        "\n",
        "    if new_state in [END_0, END_1]:\n",
        "      end = True\n",
        "  state = new_state\n",
        "  return state,end"
      ],
      "execution_count": 0,
      "outputs": []
    },
    {
      "cell_type": "code",
      "metadata": {
        "id": "sEiRMt6xAXpL",
        "colab_type": "code",
        "colab": {}
      },
      "source": [
        "## Function for giving reward\n",
        "def giveReward(state):\n",
        "  if state == END_0:\n",
        "    return 1\n",
        "  if state == END_1:\n",
        "    return 4\n",
        "# other states\n",
        "  return 0"
      ],
      "execution_count": 0,
      "outputs": []
    },
    {
      "cell_type": "markdown",
      "metadata": {
        "id": "JJmPxsa2k6WO",
        "colab_type": "text"
      },
      "source": [
        "---\n",
        "Play Episode"
      ]
    },
    {
      "cell_type": "code",
      "metadata": {
        "id": "tDNCQf4T7rbb",
        "colab_type": "code",
        "outputId": "950a2dfc-3f00-4110-be6f-cbde5a80e65a",
        "colab": {
          "base_uri": "https://localhost:8080/",
          "height": 143
        }
      },
      "source": [
        "## Play Epidose\n",
        "\n",
        "for i in range(episode):\n",
        "  end =False\n",
        "  state = START_STATE\n",
        "  arr_state = [state]\n",
        "\n",
        "  action_arr = [1,0] \n",
        "  while not end:\n",
        "    \n",
        "    #print(\"roll\")\n",
        "    if np.random.rand(1) <  e:\n",
        "      action = chooseAction(action_arr)\n",
        "    else:\n",
        "      action = np.argmax(Q[state, :])\n",
        "\n",
        "    new_state,end = takeAction(state,action,end)\n",
        "    reward = giveReward(new_state)\n",
        "    arr_state.append(new_state)\n",
        "    #print(state, new_state)\n",
        "\n",
        "    # Q-learning\n",
        "    Q[state, action] = Q[state,action] + lr*(reward + \\\n",
        "                  dis * np.max(Q[new_state, :]) - Q[state,action])\n",
        "    \n",
        "\n",
        "    state = new_state\n",
        "\n",
        "  \n",
        "print(Q) # Print out final Q-table"
      ],
      "execution_count": 0,
      "outputs": [
        {
          "output_type": "stream",
          "text": [
            "[[0.         0.        ]\n",
            " [1.         3.98402398]\n",
            " [3.98003996 3.988012  ]\n",
            " [3.98402398 3.992004  ]\n",
            " [3.988012   3.996     ]\n",
            " [3.992004   4.        ]\n",
            " [0.         0.        ]]\n"
          ],
          "name": "stdout"
        }
      ]
    },
    {
      "cell_type": "markdown",
      "metadata": {
        "id": "lOnia1rElNkj",
        "colab_type": "text"
      },
      "source": [
        "---\n",
        "Visualize last episode"
      ]
    },
    {
      "cell_type": "code",
      "metadata": {
        "id": "AX4cyx4aCmEH",
        "colab_type": "code",
        "outputId": "4eb402ac-eb01-404c-c32e-eb4d764ece2d",
        "colab": {
          "base_uri": "https://localhost:8080/",
          "height": 283
        }
      },
      "source": [
        "# Show the results of final episode\n",
        "print(\"arr state: \",arr_state)\n",
        "plt.plot(np.arange(len(arr_state)),arr_state)\n",
        "plt.show()"
      ],
      "execution_count": 0,
      "outputs": [
        {
          "output_type": "stream",
          "text": [
            "arr state:  [3, 4, 3, 4, 3, 2, 3, 2, 1, 2, 1, 2, 3, 4, 3, 2, 3, 4, 5, 4, 5, 6]\n"
          ],
          "name": "stdout"
        },
        {
          "output_type": "display_data",
          "data": {
            "image/png": "[encoded data removed]",
            "text/plain": [
              "<Figure size 432x288 with 1 Axes>"
            ]
          },
          "metadata": {
            "tags": [],
            "needs_background": "light"
          }
        }
      ]
    }
  ]
}