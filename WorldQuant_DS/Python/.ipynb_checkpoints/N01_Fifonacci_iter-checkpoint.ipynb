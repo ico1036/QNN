{
 "cells": [
  {
   "cell_type": "code",
   "execution_count": 48,
   "metadata": {},
   "outputs": [],
   "source": [
    "def first_n_fifonacci(n):\n",
    "    prev_num=0\n",
    "    curr_num=1\n",
    "    cnt=2\n",
    "    \n",
    "    print(\"First {0} Fivonacci\".format(n))\n",
    "    print(\"previous number: \",prev_num)\n",
    "    print(\"Current number: \",curr_num)\n",
    "    \n",
    "    #while cnt <= n:\n",
    "    for cnt in range(2,n+1):\n",
    "        next_num = prev_num + curr_num\n",
    "        print(next_num)\n",
    "        prev_num = curr_num\n",
    "        curr_num = next_num\n",
    "        #cnt+=1\n",
    "        \n",
    "        "
   ]
  },
  {
   "cell_type": "code",
   "execution_count": 58,
   "metadata": {},
   "outputs": [
    {
     "name": "stdout",
     "output_type": "stream",
     "text": [
      "First 12 Fivonacci\n",
      "previous number:  0\n",
      "Current number:  1\n",
      "1\n",
      "2\n",
      "3\n",
      "5\n",
      "8\n",
      "13\n",
      "21\n",
      "34\n",
      "55\n",
      "89\n",
      "144\n",
      "None\n"
     ]
    }
   ],
   "source": [
    "print(first_n_fifonacci(12))"
   ]
  },
  {
   "cell_type": "code",
   "execution_count": 45,
   "metadata": {},
   "outputs": [],
   "source": [
    "def below_x_fivonacci(x):\n",
    "    prev_num=0\n",
    "    curr_num=1\n",
    "    cnt = x\n",
    "    \n",
    "    print(\"Below {0} Fivonacci\".format(cnt))\n",
    "    print(\"previous number: \",prev_num)\n",
    "    print(\"Current number: \",curr_num)\n",
    "    \n",
    "    while curr_num < cnt:\n",
    "        print(curr_num)\n",
    "        next_num = prev_num + curr_num\n",
    "        prev_num = curr_num\n",
    "        curr_num = next_num\n",
    "        \n"
   ]
  },
  {
   "cell_type": "code",
   "execution_count": 46,
   "metadata": {},
   "outputs": [
    {
     "name": "stdout",
     "output_type": "stream",
     "text": [
      "Below 10 Fivonacci\n",
      "previous number:  0\n",
      "Current number:  1\n",
      "1\n",
      "1\n",
      "2\n",
      "3\n",
      "5\n",
      "8\n",
      "None\n"
     ]
    }
   ],
   "source": [
    "print(below_x_fivonacci(10))"
   ]
  },
  {
   "cell_type": "code",
   "execution_count": 52,
   "metadata": {},
   "outputs": [],
   "source": [
    "def fibonacci_recursive(n):\n",
    "    if n==0:\n",
    "        return 0\n",
    "    elif n==1:\n",
    "        return 1\n",
    "    else:\n",
    "        return fibonacci_recursive(n-1) + fibonacci_recursive(n-2)"
   ]
  },
  {
   "cell_type": "code",
   "execution_count": 59,
   "metadata": {},
   "outputs": [
    {
     "name": "stdout",
     "output_type": "stream",
     "text": [
      "144\n"
     ]
    }
   ],
   "source": [
    "print(fibonacci_recursive(12))"
   ]
  },
  {
   "cell_type": "markdown",
   "metadata": {},
   "source": [
    "### The reason why recursive method shows poor performance ( required lot of time ) ?  \n",
    "재귀함수는 stack frame 을 사용, 매개변수가 input에서 0 이 될때가지 stack 에 쌓임  \n",
    "Stack overflow 에러가 날 수도있음  "
   ]
  },
  {
   "cell_type": "code",
   "execution_count": null,
   "metadata": {},
   "outputs": [],
   "source": []
  }
 ],
 "metadata": {
  "kernelspec": {
   "display_name": "Python 3",
   "language": "python",
   "name": "python3"
  },
  "language_info": {
   "codemirror_mode": {
    "name": "ipython",
    "version": 3
   },
   "file_extension": ".py",
   "mimetype": "text/x-python",
   "name": "python",
   "nbconvert_exporter": "python",
   "pygments_lexer": "ipython3",
   "version": "3.6.7"
  }
 },
 "nbformat": 4,
 "nbformat_minor": 2
}
