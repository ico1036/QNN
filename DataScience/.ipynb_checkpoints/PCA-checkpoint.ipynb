{
 "cells": [
  {
   "cell_type": "code",
   "execution_count": 1,
   "metadata": {},
   "outputs": [],
   "source": [
    "import numpy as np"
   ]
  },
  {
   "cell_type": "markdown",
   "metadata": {},
   "source": [
    "## 주성분 분석(PCA) 실습\n",
    "#### -선형대수 응용 수업-"
   ]
  },
  {
   "cell_type": "code",
   "execution_count": 2,
   "metadata": {},
   "outputs": [],
   "source": [
    "## --Input dataset\n",
    "x = np.array([2.5,0.5,2.2,1.9,3.1,2.3,2,1,1.5,1.1])\n",
    "y = np.array([2.4,0.7,2.9,2.2,3.0,2.7,1.6,1.1,1.6,0.9])"
   ]
  },
  {
   "cell_type": "code",
   "execution_count": 3,
   "metadata": {},
   "outputs": [
    {
     "data": {
      "image/png": "[encoded data removed]",
      "text/plain": [
       "<Figure size 360x360 with 1 Axes>"
      ]
     },
     "metadata": {
      "needs_background": "light"
     },
     "output_type": "display_data"
    }
   ],
   "source": [
    "# Visualize original dataset\n",
    "import matplotlib\n",
    "import matplotlib.pyplot as plt\n",
    "%matplotlib inline\n",
    "\n",
    "plt.rcParams['figure.figsize'] = (5,5)\n",
    "plt.plot(x,y,'o',color='b',alpha=0.7)\n",
    "plt.ylabel('x',fontsize=15)\n",
    "plt.xlabel('y',fontsize=15)\n",
    "plt.xlim([0,4])\n",
    "plt.ylim([0,4])\n",
    "plt.grid(which='major', linestyle='-')\n",
    "plt.grid(which='minor', linestyle='-',alpha=0.3)\n",
    "plt.minorticks_on()\n"
   ]
  },
  {
   "cell_type": "code",
   "execution_count": 4,
   "metadata": {},
   "outputs": [
    {
     "name": "stdout",
     "output_type": "stream",
     "text": [
      " ### --- Zero mean --- ###\n",
      "[[ 0.69 -1.31  0.39  0.09  1.29  0.49  0.19 -0.81 -0.31 -0.71]\n",
      " [ 0.49 -1.21  0.99  0.29  1.09  0.79 -0.31 -0.81 -0.31 -1.01]]\n",
      " ### --- Covariant matrix --- ###\n",
      "[[0.61655556 0.61544444]\n",
      " [0.61544444 0.71655556]]\n"
     ]
    }
   ],
   "source": [
    "## --Calculate the Covariant matrix\n",
    "\n",
    "# Zero-mean data\n",
    "x_zero = x - np.mean(x)\n",
    "y_zero = y - np.mean(y)\n",
    "\n",
    "# Concatenate two vector into one matrix\n",
    "xy = np.stack([x_zero,y_zero],axis=0)\n",
    "print(\" ### --- Zero mean --- ###\")\n",
    "print(xy)\n",
    "\n",
    "# Covariant matrix\n",
    "cov = np.cov(xy)\n",
    "print(\" ### --- Covariant matrix --- ###\")\n",
    "print(cov)"
   ]
  },
  {
   "cell_type": "markdown",
   "metadata": {},
   "source": [
    "---\n",
    "### Eigen value, vector 계산  \n",
    "#### 1. covariance matrix  \n",
    "$cov = \\left[\\begin{array}{rrr} \n",
    "a&b\\\\\n",
    "b&c\\\\\n",
    "\\end{array}\\right]$  \n",
    "\n",
    "  \n",
    "#### 2. Eigenvalue calculation  \n",
    "$\\lambda$ : Eigen value  \n",
    "$|cov - \\lambda I| = det\\left[\\begin{array}{rrr} \n",
    "a-\\lambda&b\\\\\n",
    "b&c-\\lambda\\\\\n",
    "\\end{array}\\right] = 0$   \n",
    "  \n",
    "$\\lambda = {(a+c) \\pm \\sqrt{(a+c)^2-4(ac-b^2)} \\over 2a}$  \n",
    "\n",
    "#### 3. Eigenvector calculation  \n",
    "$\\left[\\begin{array}{rrr} \n",
    "a'&b\\\\\n",
    "b&c'\\\\\n",
    "\\end{array}\\right]\\left[\\begin{array}{rrr} \n",
    "x1\\\\\n",
    "x2\\\\\n",
    "\\end{array}\\right] = 0$  \n",
    "  \n",
    "    \n",
    " x1 = -x2 $( b + c' ) \\over ( a' + b )$  \n",
    " eigen vector =$\\left[\\begin{array}{rrr} \n",
    "-(b+c')\\\\\n",
    "a'+b\\\\\n",
    "\\end{array}\\right]$"
   ]
  },
  {
   "cell_type": "code",
   "execution_count": 5,
   "metadata": {},
   "outputs": [
    {
     "name": "stdout",
     "output_type": "stream",
     "text": [
      " ### --- Eigen values --- ###\n",
      "0.04908339893832725 1.2840277121727839\n",
      " ### --- Eigen vector --- ###\n",
      "[-1.2829166  1.1829166]\n",
      "[-0.04797229 -0.05202771]\n",
      " ### --- PC matrix --- ###\n",
      "[[-0.04797229 -1.2829166 ]\n",
      " [-0.05202771  1.1829166 ]]\n"
     ]
    }
   ],
   "source": [
    "## --Calculation of eigen value,vector\n",
    "\n",
    "# 1. Find eigen value\n",
    "a = cov[0,0]; b = cov[1,0]; c = cov[1,1];\n",
    "\n",
    "eig_val1 =    (a+c)/2. - np.sqrt((a+c)*(a+c) - 4*(a*c - b*b)) / 2.\n",
    "eig_val2 =    (a+c)/2. + np.sqrt((a+c)*(a+c) - 4*(a*c - b*b)) / 2. \n",
    "\n",
    "print(\" ### --- Eigen values --- ###\")\n",
    "print(eig_val1,eig_val2)\n",
    "\n",
    "# 2. Find eigen vector\n",
    "\n",
    "# -- eig_val1\n",
    "a1 = a - eig_val1\n",
    "c1 = c - eig_val1\n",
    "#print(a1)\n",
    "#print(c1)\n",
    "\n",
    "eig_vec1 = np.array([-1 * (b+c1) ,(a1+b)])\n",
    "\n",
    "\n",
    "# -- eig_val2  --->  PC1: Eigen vector of largest eigne values \n",
    "a2 = a - eig_val2\n",
    "c2 = c - eig_val2\n",
    "#print(a2)\n",
    "#print(c2)\n",
    "\n",
    "eig_vec2 = np.array([-1 * (b+c2) ,(a2+b)])\n",
    "\n",
    "print(\" ### --- Eigen vector --- ###\")\n",
    "print(eig_vec1)\n",
    "print(eig_vec2)\n",
    "\n",
    "print(\" ### --- PC matrix --- ###\")\n",
    "PC_mat = np.column_stack((eig_vec2,eig_vec1))\n",
    "print(PC_mat)"
   ]
  },
  {
   "cell_type": "code",
   "execution_count": 6,
   "metadata": {},
   "outputs": [
    {
     "data": {
      "text/plain": [
       "<matplotlib.legend.Legend at 0x116a059b648>"
      ]
     },
     "execution_count": 6,
     "metadata": {},
     "output_type": "execute_result"
    },
    {
     "data": {
      "image/png": "[encoded data removed]",
      "text/plain": [
       "<Figure size 360x360 with 1 Axes>"
      ]
     },
     "metadata": {
      "needs_background": "light"
     },
     "output_type": "display_data"
    }
   ],
   "source": [
    "## Visualize eigen vectors\n",
    "slope1 = eig_vec1[1] / eig_vec1[0]\n",
    "slope2 = eig_vec2[1] / eig_vec2[0]\n",
    "\n",
    "vec1_x = [a for a in range(-8,8)]\n",
    "vec1_y = [slope1*b for b in range(-8,8)]\n",
    "\n",
    "\n",
    "vec2_x = [a for a in range(-8,8)]\n",
    "vec2_y = [slope2*b for b in range(-8,8)]\n",
    "\n",
    "plt.rcParams['figure.figsize'] = (5,5)\n",
    "plt.plot(x_zero,y_zero,'o',color='b',alpha=0.7)\n",
    "plt.plot(vec1_x,vec1_y,label='PC2')\n",
    "plt.plot(vec2_x,vec2_y,label='PC1')\n",
    "plt.ylabel('x',fontsize=15)\n",
    "plt.xlabel('y',fontsize=15)\n",
    "plt.xlim([-2,2])\n",
    "plt.ylim([-2,2])\n",
    "plt.grid(which='major', linestyle='-')\n",
    "plt.grid(which='minor', linestyle='-',alpha=0.3)\n",
    "plt.minorticks_on()\n",
    "plt.legend()"
   ]
  },
  {
   "cell_type": "code",
   "execution_count": 13,
   "metadata": {},
   "outputs": [
    {
     "name": "stdout",
     "output_type": "stream",
     "text": [
      "### --- Principle component ---- ###\n",
      "[[-0.05859446  0.12579723 -0.07021663 -0.01940554 -0.11859446 -0.06460831\n",
      "   0.00701386  0.081       0.031       0.08660831]\n",
      " [-0.30558332  0.24929166  0.67074996  0.22758332 -0.36558332  0.30587498\n",
      "  -0.6104583   0.081       0.031      -0.28387498]]\n"
     ]
    }
   ],
   "source": [
    "PCA = PC_mat.T @ xy \n",
    "print(\"### --- Principle component ---- ###\")\n",
    "print(PCA)\n",
    "\n",
    "PCA_x = PCA[0]\n",
    "PCA_y = PCA[1]"
   ]
  },
  {
   "cell_type": "code",
   "execution_count": 29,
   "metadata": {},
   "outputs": [
    {
     "data": {
      "text/plain": [
       "<matplotlib.legend.Legend at 0x116a28c9808>"
      ]
     },
     "execution_count": 29,
     "metadata": {},
     "output_type": "execute_result"
    },
    {
     "data": {
      "image/png": "[encoded data removed]",
      "text/plain": [
       "<Figure size 360x360 with 1 Axes>"
      ]
     },
     "metadata": {
      "needs_background": "light"
     },
     "output_type": "display_data"
    }
   ],
   "source": [
    "## Visualize PC\n",
    "line1y = [b for b in range(-8,8)]\n",
    "line1x = np.zeros(16)\n",
    "\n",
    "line2x = [b for b in range(-8,8)]\n",
    "line2y = np.zeros(16)\n",
    "\n",
    "plt.rcParams['figure.figsize'] = (5,5)\n",
    "plt.plot(PCA_x,PCA_y,'o',color='b',alpha=0.7)\n",
    "plt.plot(line1x,line1y,label='PC1',color='darkorange')\n",
    "plt.plot(line2x,line2y,label='PC2',color='royalblue')\n",
    "plt.xlabel('pc_x',fontsize=15)\n",
    "plt.ylabel('pc_y',fontsize=15)\n",
    "plt.xlim([-2,2])\n",
    "plt.ylim([-2,2])\n",
    "plt.grid(which='major', linestyle='-')\n",
    "plt.grid(which='minor', linestyle='-',alpha=0.3)\n",
    "plt.minorticks_on()\n",
    "plt.legend()"
   ]
  },
  {
   "cell_type": "code",
   "execution_count": null,
   "metadata": {},
   "outputs": [],
   "source": []
  }
 ],
 "metadata": {
  "kernelspec": {
   "display_name": "Python 3",
   "language": "python",
   "name": "python3"
  },
  "language_info": {
   "codemirror_mode": {
    "name": "ipython",
    "version": 3
   },
   "file_extension": ".py",
   "mimetype": "text/x-python",
   "name": "python",
   "nbconvert_exporter": "python",
   "pygments_lexer": "ipython3",
   "version": "3.7.5"
  }
 },
 "nbformat": 4,
 "nbformat_minor": 4
}
