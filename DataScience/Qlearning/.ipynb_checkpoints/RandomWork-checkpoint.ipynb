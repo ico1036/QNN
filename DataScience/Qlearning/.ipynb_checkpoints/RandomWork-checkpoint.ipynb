{
 "cells": [
  {
   "cell_type": "code",
   "execution_count": 1,
   "metadata": {},
   "outputs": [],
   "source": [
    "NUM_STATES = 5\n",
    "START = 4\n",
    "END_0 = 0\n",
    "END_1 = 6"
   ]
  },
  {
   "cell_type": "code",
   "execution_count": 2,
   "metadata": {},
   "outputs": [],
   "source": [
    "class ValueFuntion:\n",
    "    \n",
    "    def __init__(self,alpha=0.1):\n",
    "        self.weights = np.zeros(NUM_STATES +2)\n",
    "        self.alpha = alpha\n",
    "        \n",
    "    def value(self,state):\n",
    "        v = self.weights[state]\n",
    "        return v\n",
    "    \n",
    "    def learn(self, state, delta):\n",
    "        self.weights[state] += self.alpha * delta    "
   ]
  },
  {
   "cell_type": "code",
   "execution_count": 3,
   "metadata": {},
   "outputs": [],
   "source": [
    "class RandomWalk:\n",
    "    \n",
    "    def __init__(self, start=START, end=False, lmbda=0.4, debug=False):\n",
    "        self.actions = [\"left\",\"right\"]\n",
    "        self.state   = start # Current state\n",
    "        self.end     = end\n",
    "        self.labda   = lmbda\n",
    "        self.states   = [] # Array of states\n",
    "        self.reward  = 0\n",
    "        self.debug   = debug\n",
    "        self.rate_truncate = 1e-3\n",
    "        \n",
    "    def chooseAction(self):\n",
    "        action = np.random.choice(self.actions)\n",
    "        return action\n",
    "    \n",
    "    def takeAction(self, action):\n",
    "        new_state = self.state\n",
    "        if not self.end:\n",
    "            if action == \"left\":\n",
    "                new_state = self.state - 1\n",
    "            else:\n",
    "                new_state = self.state + 1\n",
    "            \n",
    "            if new_state in [END_0,END_1]:\n",
    "                self.end = True\n",
    "        self.state = new_state\n",
    "        return self.state\n",
    "    \n",
    "    \n",
    "    def giveReward(self,state):\n",
    "        if state == END_0:\n",
    "            return 1\n",
    "        if state ==END_1:\n",
    "            return 4\n",
    "        return 0"
   ]
  },
  {
   "cell_type": "code",
   "execution_count": null,
   "metadata": {},
   "outputs": [],
   "source": [
    "def play(self, valueFunc, rounds=100):\n",
    "    for _ in range(rounds):\n",
    "        self.reset()\n",
    "        action = self.chooseAction()\n",
    "        \n",
    "        self.states = [self.state]\n",
    "        while not self.end:\n",
    "            state = self.takeAction(action) # Next state\n",
    "            self.reward = self.giveReward(state) # Next state-reward\n",
    "            self.states.append(state)\n",
    "            action = self.chooseAction()\n",
    "            \n",
    "        if self.debug:\n",
    "            print(\"total states {} end at {} reward {}\".format)"
   ]
  }
 ],
 "metadata": {
  "kernelspec": {
   "display_name": "Python 3",
   "language": "python",
   "name": "python3"
  },
  "language_info": {
   "codemirror_mode": {
    "name": "ipython",
    "version": 3
   },
   "file_extension": ".py",
   "mimetype": "text/x-python",
   "name": "python",
   "nbconvert_exporter": "python",
   "pygments_lexer": "ipython3",
   "version": "3.7.5"
  }
 },
 "nbformat": 4,
 "nbformat_minor": 4
}
