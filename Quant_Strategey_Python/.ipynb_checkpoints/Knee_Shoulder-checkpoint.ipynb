{
 "cells": [
  {
   "cell_type": "code",
   "execution_count": 1,
   "metadata": {},
   "outputs": [],
   "source": [
    "import FinanceDataReader as fdr\n",
    "import pandas as pd\n",
    "import matplotlib.pyplot as plt\n",
    "import numpy as np\n",
    "import seaborn as sns\n",
    "sns.set(rc={'figure.figsize':(11,4)})"
   ]
  },
  {
   "cell_type": "code",
   "execution_count": 2,
   "metadata": {},
   "outputs": [],
   "source": [
    "ETF_list = [\n",
    "\n",
    "  [\"btc\", \"BTC/KRW\"]\n",
    "\n",
    "]"
   ]
  },
  {
   "cell_type": "code",
   "execution_count": 3,
   "metadata": {},
   "outputs": [],
   "source": [
    "def get_df(asset_list):\n",
    "    df_list = [fdr.DataReader(code, '2008-01-01', '2020-12-29')['Close'] for name, code in asset_list]\n",
    "    df = pd.concat(df_list, axis=1)\n",
    "    df.columns = [name for name, code in asset_list]\n",
    "    print(df)\n",
    "    return df"
   ]
  },
  {
   "cell_type": "code",
   "execution_count": 4,
   "metadata": {},
   "outputs": [],
   "source": [
    "def log_return(df):\n",
    "    return np.log(df / df.shift(1)) * 100"
   ]
  },
  {
   "cell_type": "code",
   "execution_count": 5,
   "metadata": {},
   "outputs": [
    {
     "name": "stdout",
     "output_type": "stream",
     "text": [
      "                 btc\n",
      "Date                \n",
      "2017-05-23   3206000\n",
      "2017-05-24   4175000\n",
      "2017-05-25   4199000\n",
      "2017-05-26   3227000\n",
      "2017-05-27   3152000\n",
      "...              ...\n",
      "2020-12-25  27135000\n",
      "2020-12-26  29385000\n",
      "2020-12-27  29355000\n",
      "2020-12-28  30199000\n",
      "2020-12-29  29895000\n",
      "\n",
      "[1315 rows x 1 columns]\n"
     ]
    }
   ],
   "source": [
    "BTC_df = get_df(ETF_list)"
   ]
  },
  {
   "cell_type": "code",
   "execution_count": 6,
   "metadata": {},
   "outputs": [],
   "source": [
    "curr_money = 1000000\n",
    "cash = curr_money * 0.5\n",
    "invest = curr_money * 0.5"
   ]
  },
  {
   "cell_type": "code",
   "execution_count": 7,
   "metadata": {},
   "outputs": [],
   "source": [
    "part_df = BTC_df.loc['2020-01-01':]"
   ]
  },
  {
   "cell_type": "code",
   "execution_count": 8,
   "metadata": {},
   "outputs": [],
   "source": [
    "sel_rat=0.02\n",
    "buy_rat=0.01"
   ]
  },
  {
   "cell_type": "code",
   "execution_count": 9,
   "metadata": {},
   "outputs": [],
   "source": [
    "def make_position(ratio_sel,ratio_buy):\n",
    "    sel_mask = part_df > part_df.rolling(window=7).mean() * (1 + ratio_sel)\n",
    "    buy_mask = part_df < part_df.rolling(window=7).mean() * (1 - ratio_buy)\n",
    "    #buy_mask = part_df < part_df.rolling(window=7).mean() \n",
    "    \n",
    "    \n",
    "    sel_signal = part_df[sel_mask]\n",
    "    buy_signal = part_df[buy_mask]\n",
    "    \n",
    "    return sel_signal,buy_signal"
   ]
  },
  {
   "cell_type": "code",
   "execution_count": 10,
   "metadata": {},
   "outputs": [
    {
     "name": "stderr",
     "output_type": "stream",
     "text": [
      "C:\\Users\\ico10\\Anaconda3\\lib\\site-packages\\pandas\\plotting\\_matplotlib\\converter.py:103: FutureWarning: Using an implicitly registered datetime converter for a matplotlib plotting method. The converter was registered by pandas on import. Future versions of pandas will require you to explicitly register matplotlib converters.\n",
      "\n",
      "To register the converters:\n",
      "\t>>> from pandas.plotting import register_matplotlib_converters\n",
      "\t>>> register_matplotlib_converters()\n",
      "  warnings.warn(msg, FutureWarning)\n"
     ]
    },
    {
     "data": {
      "text/plain": [
       "<matplotlib.legend.Legend at 0x11d134cbc88>"
      ]
     },
     "execution_count": 10,
     "metadata": {},
     "output_type": "execute_result"
    },
    {
     "data": {
      "image/png": "[encoded data removed]",
      "text/plain": [
       "<Figure size 792x288 with 1 Axes>"
      ]
     },
     "metadata": {},
     "output_type": "display_data"
    }
   ],
   "source": [
    "good_signal , bad_signal = make_position(sel_rat,buy_rat)\n",
    "\n",
    "\n",
    "mva = part_df.rolling(window=7).mean()\n",
    "plt.plot(part_df)\n",
    "plt.plot(mva)\n",
    "plt.plot(good_signal,'*',color='r',label='Sel')\n",
    "plt.plot(bad_signal,'*',color='g',label='Buy')\n",
    "plt.legend()"
   ]
  },
  {
   "cell_type": "code",
   "execution_count": 11,
   "metadata": {},
   "outputs": [],
   "source": [
    "good_signal.dropna(inplace=True)\n",
    "bad_signal.dropna(inplace=True)"
   ]
  },
  {
   "cell_type": "code",
   "execution_count": 12,
   "metadata": {},
   "outputs": [],
   "source": [
    "good_signal['label']='SEL'\n",
    "bad_signal['label']='BUY'"
   ]
  },
  {
   "cell_type": "code",
   "execution_count": 13,
   "metadata": {},
   "outputs": [
    {
     "data": {
      "text/html": [
       "<div>\n",
       "<style scoped>\n",
       "    .dataframe tbody tr th:only-of-type {\n",
       "        vertical-align: middle;\n",
       "    }\n",
       "\n",
       "    .dataframe tbody tr th {\n",
       "        vertical-align: top;\n",
       "    }\n",
       "\n",
       "    .dataframe thead th {\n",
       "        text-align: right;\n",
       "    }\n",
       "</style>\n",
       "<table border=\"1\" class=\"dataframe\">\n",
       "  <thead>\n",
       "    <tr style=\"text-align: right;\">\n",
       "      <th></th>\n",
       "      <th>btc</th>\n",
       "      <th>label</th>\n",
       "    </tr>\n",
       "    <tr>\n",
       "      <th>Date</th>\n",
       "      <th></th>\n",
       "      <th></th>\n",
       "    </tr>\n",
       "  </thead>\n",
       "  <tbody>\n",
       "    <tr>\n",
       "      <th>2020-01-07</th>\n",
       "      <td>9391000.0</td>\n",
       "      <td>SEL</td>\n",
       "    </tr>\n",
       "    <tr>\n",
       "      <th>2020-01-08</th>\n",
       "      <td>9096000.0</td>\n",
       "      <td>SEL</td>\n",
       "    </tr>\n",
       "    <tr>\n",
       "      <th>2020-01-10</th>\n",
       "      <td>9228000.0</td>\n",
       "      <td>SEL</td>\n",
       "    </tr>\n",
       "    <tr>\n",
       "      <th>2020-01-14</th>\n",
       "      <td>9707000.0</td>\n",
       "      <td>SEL</td>\n",
       "    </tr>\n",
       "    <tr>\n",
       "      <th>2020-01-15</th>\n",
       "      <td>9732000.0</td>\n",
       "      <td>SEL</td>\n",
       "    </tr>\n",
       "    <tr>\n",
       "      <th>...</th>\n",
       "      <td>...</td>\n",
       "      <td>...</td>\n",
       "    </tr>\n",
       "    <tr>\n",
       "      <th>2020-12-25</th>\n",
       "      <td>27135000.0</td>\n",
       "      <td>SEL</td>\n",
       "    </tr>\n",
       "    <tr>\n",
       "      <th>2020-12-26</th>\n",
       "      <td>29385000.0</td>\n",
       "      <td>SEL</td>\n",
       "    </tr>\n",
       "    <tr>\n",
       "      <th>2020-12-27</th>\n",
       "      <td>29355000.0</td>\n",
       "      <td>SEL</td>\n",
       "    </tr>\n",
       "    <tr>\n",
       "      <th>2020-12-28</th>\n",
       "      <td>30199000.0</td>\n",
       "      <td>SEL</td>\n",
       "    </tr>\n",
       "    <tr>\n",
       "      <th>2020-12-29</th>\n",
       "      <td>29895000.0</td>\n",
       "      <td>SEL</td>\n",
       "    </tr>\n",
       "  </tbody>\n",
       "</table>\n",
       "<p>132 rows × 2 columns</p>\n",
       "</div>"
      ],
      "text/plain": [
       "                   btc label\n",
       "Date                        \n",
       "2020-01-07   9391000.0   SEL\n",
       "2020-01-08   9096000.0   SEL\n",
       "2020-01-10   9228000.0   SEL\n",
       "2020-01-14   9707000.0   SEL\n",
       "2020-01-15   9732000.0   SEL\n",
       "...                ...   ...\n",
       "2020-12-25  27135000.0   SEL\n",
       "2020-12-26  29385000.0   SEL\n",
       "2020-12-27  29355000.0   SEL\n",
       "2020-12-28  30199000.0   SEL\n",
       "2020-12-29  29895000.0   SEL\n",
       "\n",
       "[132 rows x 2 columns]"
      ]
     },
     "execution_count": 13,
     "metadata": {},
     "output_type": "execute_result"
    }
   ],
   "source": [
    "good_signal"
   ]
  },
  {
   "cell_type": "code",
   "execution_count": 14,
   "metadata": {},
   "outputs": [],
   "source": [
    "pd_Alpha =pd.concat([good_signal,bad_signal])"
   ]
  },
  {
   "cell_type": "code",
   "execution_count": null,
   "metadata": {},
   "outputs": [],
   "source": [
    "for\n",
    "pd_Alpha['label'][i] == pd_Alpha.iloc[i+1]['label']"
   ]
  },
  {
   "cell_type": "code",
   "execution_count": 15,
   "metadata": {},
   "outputs": [
    {
     "name": "stdout",
     "output_type": "stream",
     "text": [
      "Buy:  9753000.0\n",
      "1 132\n"
     ]
    }
   ],
   "source": [
    "cnt_b=0\n",
    "cnt_s=0\n",
    "idx=0\n",
    "\n",
    "\n",
    "for l in pd_Alpha['label']:\n",
    "    \n",
    "    buy_price=0\n",
    "    sel_price=0\n",
    "    tmp_sel=0\n",
    "    money = 0\n",
    "    \n",
    "    \n",
    "    if l == 'BUY':\n",
    "        cnt_b +=1\n",
    "    if l =='SEL':\n",
    "        cnt_s +=1\n",
    "    if cnt_b == 1 and cnt_s > 0:\n",
    "        print(\"Buy: \", pd_Alpha.iloc[idx]['btc'])\n",
    "        buy_price = pd_Alpha.iloc[idx]['btc']\n",
    "        print( cnt_b, cnt_s)\n",
    "        tmp_sel =cnt_s\n",
    "        \n",
    "    if (cnt_b == 1) and (cnt_s == (tmp_sel + 1)):\n",
    "        print(\"Sel: \", pd_Alpha.iloc[idx]['btc'])\n",
    "        sel_price =  pd_Alpha.iloc[idx]['btc']\n",
    "        print(\"Return: \", buy_price - sel_price)\n",
    "            \n",
    "    idx +=1"
   ]
  },
  {
   "cell_type": "code",
   "execution_count": null,
   "metadata": {},
   "outputs": [],
   "source": []
  },
  {
   "cell_type": "code",
   "execution_count": null,
   "metadata": {},
   "outputs": [],
   "source": []
  }
 ],
 "metadata": {
  "kernelspec": {
   "display_name": "Python 3",
   "language": "python",
   "name": "python3"
  },
  "language_info": {
   "codemirror_mode": {
    "name": "ipython",
    "version": 3
   },
   "file_extension": ".py",
   "mimetype": "text/x-python",
   "name": "python",
   "nbconvert_exporter": "python",
   "pygments_lexer": "ipython3",
   "version": "3.7.5"
  }
 },
 "nbformat": 4,
 "nbformat_minor": 4
}
