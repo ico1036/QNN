{
 "cells": [
  {
   "cell_type": "code",
   "execution_count": 27,
   "metadata": {},
   "outputs": [],
   "source": [
    "import PyPDF2\n",
    "from PyPDF2 import PdfFileReader"
   ]
  },
  {
   "cell_type": "code",
   "execution_count": 28,
   "metadata": {},
   "outputs": [],
   "source": [
    "path     = '../testpdf.pdf'\n",
    "pdf_file = PdfFileReader(open(path,'rb'))\n",
    "docinfo  = pdf_file.getDocumentInfo()"
   ]
  },
  {
   "cell_type": "code",
   "execution_count": 29,
   "metadata": {},
   "outputs": [
    {
     "name": "stdout",
     "output_type": "stream",
     "text": [
      "{'/CreationDate': 'D:20190417000000', '/Creator': '© 2019 CERN, for the CMS Collaboration', '/Keywords': 'doi:10.1103/PhysRevLett.122.152001 url:https://doi.org/10.1103/PhysRevLett.122.152001', '/ModDate': 'D:20190417000000', '/Producer': 'Acrobat Distiller 10.1.16 (Windows)', '/Title': 'Jet Shapes of Isolated Photon-Tagged Jets in Pb-Pb and pp Collisions at sNN=5.02\\u2009\\u2009TeV', '/Subject': 'doi:10.1103/PhysRevLett.122.152001 url:https://doi.org/10.1103/PhysRevLett.122.152001'}\n"
     ]
    }
   ],
   "source": [
    "print(docinfo)"
   ]
  },
  {
   "cell_type": "code",
   "execution_count": 30,
   "metadata": {},
   "outputs": [
    {
     "name": "stdout",
     "output_type": "stream",
     "text": [
      "/CreationDate : D:20190417000000\n",
      "/Creator : © 2019 CERN, for the CMS Collaboration\n",
      "/Keywords : doi:10.1103/PhysRevLett.122.152001 url:https://doi.org/10.1103/PhysRevLett.122.152001\n",
      "/ModDate : D:20190417000000\n",
      "/Producer : Acrobat Distiller 10.1.16 (Windows)\n",
      "/Title : Jet Shapes of Isolated Photon-Tagged Jets in Pb-Pb and pp Collisions at sNN=5.02  TeV\n",
      "/Subject : doi:10.1103/PhysRevLett.122.152001 url:https://doi.org/10.1103/PhysRevLett.122.152001\n"
     ]
    }
   ],
   "source": [
    "for metaitem in docinfo:\n",
    "    print(metaitem,':',docinfo[metaitem])"
   ]
  },
  {
   "cell_type": "code",
   "execution_count": 31,
   "metadata": {},
   "outputs": [],
   "source": [
    "doi_class = docinfo['/Keywords']\n",
    "doi = doi_class.split('url:')[1]\n",
    "Title = str(docinfo['/Title'])"
   ]
  },
  {
   "cell_type": "code",
   "execution_count": 32,
   "metadata": {},
   "outputs": [],
   "source": [
    "import textract "
   ]
  },
  {
   "cell_type": "code",
   "execution_count": null,
   "metadata": {},
   "outputs": [],
   "source": []
  }
 ],
 "metadata": {
  "kernelspec": {
   "display_name": "Python 3",
   "language": "python",
   "name": "python3"
  },
  "language_info": {
   "codemirror_mode": {
    "name": "ipython",
    "version": 3
   },
   "file_extension": ".py",
   "mimetype": "text/x-python",
   "name": "python",
   "nbconvert_exporter": "python",
   "pygments_lexer": "ipython3",
   "version": "3.7.5"
  }
 },
 "nbformat": 4,
 "nbformat_minor": 4
}
