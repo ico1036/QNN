{
 "cells": [
  {
   "cell_type": "code",
   "execution_count": 1,
   "metadata": {},
   "outputs": [],
   "source": [
    "import pandas as pd\n",
    "import numpy as np\n",
    "import matplotlib\n",
    "%matplotlib inline\n",
    "import matplotlib.pyplot as plt"
   ]
  },
  {
   "cell_type": "code",
   "execution_count": 2,
   "metadata": {},
   "outputs": [
    {
     "name": "stdout",
     "output_type": "stream",
     "text": [
      "          Date    Open    High     Low   Close    Volume\n",
      "0   2005-02-28  71.272  71.460  70.482  70.586   4318503\n",
      "1   2005-03-31  70.212  71.347  68.634  70.041  37282793\n",
      "2   2005-04-30  70.204  72.875  69.271  72.485  36759015\n",
      "3   2005-05-31  72.258  74.529  71.210  74.486  31841886\n",
      "4   2005-06-30  74.648  76.062  73.182  75.822  44296176\n",
      "5   2005-07-31  75.301  75.479  72.673  73.012  32219496\n",
      "6   2005-08-31  72.531  75.274  71.571  75.268  30460083\n",
      "7   2005-09-30  74.738  75.070  72.045  72.295  26628613\n",
      "8   2005-10-31  71.971  72.199  69.881  70.396  27147296\n",
      "9   2005-11-30  70.121  71.460  68.895  70.570  27540980\n",
      "10  2005-12-31  70.570  72.603  69.668  72.059  20618015\n",
      "11  2006-01-31  71.817  72.743  70.611  71.096  17253098\n",
      "12  2006-02-28  70.693  71.711  70.350  71.630  15368773\n"
     ]
    }
   ],
   "source": [
    "data = pd.read_csv('TLT_monthly.csv')\n",
    "print(data[:13])"
   ]
  },
  {
   "cell_type": "code",
   "execution_count": 3,
   "metadata": {},
   "outputs": [
    {
     "name": "stdout",
     "output_type": "stream",
     "text": [
      "           Date     Open\n",
      "0    2005-02-28   71.272\n",
      "1    2005-03-31   70.212\n",
      "2    2005-04-30   70.204\n",
      "3    2005-05-31   72.258\n",
      "4    2005-06-30   74.648\n",
      "..          ...      ...\n",
      "176  2019-10-31  140.320\n",
      "177  2019-11-30  140.040\n",
      "178  2019-12-31  137.690\n",
      "179  2020-01-31  136.560\n",
      "180  2020-02-29  144.945\n",
      "\n",
      "[181 rows x 2 columns]\n"
     ]
    }
   ],
   "source": [
    "open_data = pd.DataFrame.copy(data)\n",
    "open_data = open_data.drop(columns=['High','Low','Close','Volume'])\n",
    "print(open_data)\n"
   ]
  },
  {
   "cell_type": "code",
   "execution_count": 4,
   "metadata": {},
   "outputs": [],
   "source": [
    "def makeScore(date):\n",
    "    \n",
    "    sum=0\n",
    "    for i in range(12):\n",
    "        if (open_data.loc[date]['Open'] - open_data.loc[date-i]['Open']) >0:\n",
    "            sum += 1\n",
    "    return sum / 12 * 100"
   ]
  },
  {
   "cell_type": "code",
   "execution_count": 5,
   "metadata": {},
   "outputs": [
    {
     "name": "stdout",
     "output_type": "stream",
     "text": [
      "41.66666666666667\n",
      "181\n"
     ]
    }
   ],
   "source": [
    "print(makeScore(11))\n",
    "print(len(open_data))"
   ]
  },
  {
   "cell_type": "code",
   "execution_count": 6,
   "metadata": {},
   "outputs": [],
   "source": [
    "Score_list = []\n",
    "for i in range(11,len(open_data)):\n",
    "    Score_list.append(makeScore(i))"
   ]
  },
  {
   "cell_type": "code",
   "execution_count": 7,
   "metadata": {},
   "outputs": [],
   "source": [
    "Score_sr = pd.Series(Score_list)"
   ]
  },
  {
   "cell_type": "code",
   "execution_count": 8,
   "metadata": {},
   "outputs": [
    {
     "data": {
      "text/plain": [
       "0      41.666667\n",
       "1      33.333333\n",
       "2      33.333333\n",
       "3       0.000000\n",
       "4       0.000000\n",
       "         ...    \n",
       "165    83.333333\n",
       "166    75.000000\n",
       "167    66.666667\n",
       "168    58.333333\n",
       "169    83.333333\n",
       "Length: 170, dtype: float64"
      ]
     },
     "metadata": {},
     "output_type": "display_data"
    }
   ],
   "source": [
    "display(Score_sr)"
   ]
  },
  {
   "cell_type": "code",
   "execution_count": 9,
   "metadata": {},
   "outputs": [],
   "source": [
    "date_sr = open_data[11:]['Date']"
   ]
  },
  {
   "cell_type": "code",
   "execution_count": 10,
   "metadata": {},
   "outputs": [
    {
     "name": "stdout",
     "output_type": "stream",
     "text": [
      "11     2006-01-31\n",
      "12     2006-02-28\n",
      "13     2006-03-31\n",
      "14     2006-04-30\n",
      "15     2006-05-31\n",
      "          ...    \n",
      "176    2019-10-31\n",
      "177    2019-11-30\n",
      "178    2019-12-31\n",
      "179    2020-01-31\n",
      "180    2020-02-29\n",
      "Name: Date, Length: 170, dtype: object\n"
     ]
    }
   ],
   "source": [
    "print(date_sr)"
   ]
  },
  {
   "cell_type": "code",
   "execution_count": 31,
   "metadata": {},
   "outputs": [],
   "source": [
    "plt.rc('xtick',labelsize=10)\n",
    "plt.rc('ytick',labelsize=20)\n",
    "plt.xticks(rotation=90)\n",
    "plt.rcParams[\"figure.figsize\"] = (60,10)\n",
    "\n",
    "plt.plot(date_sr,Score_sr,'-o',color='royalblue',label='Avergae Momentum Score')\n",
    "\n",
    "plt.xlabel('Date',fontsize=25)\n",
    "plt.ylabel('Score[%]',fontsize=25)\n",
    "plt.axhline(y=50,color='r')\n",
    "plt.legend(prop={'size':15})\n",
    "\n",
    "#plt.xscale('log')\n",
    "#plt.yscale('log')\n",
    "\n",
    "plt.grid(which='major', linestyle='--')\n",
    "\n",
    "plt.tight_layout()\n",
    "#plt.show()\n",
    "plt.savefig('TLT_avg_mom_score.png')\n",
    "plt.close()"
   ]
  },
  {
   "cell_type": "code",
   "execution_count": null,
   "metadata": {},
   "outputs": [],
   "source": []
  }
 ],
 "metadata": {
  "kernelspec": {
   "display_name": "Python 3",
   "language": "python",
   "name": "python3"
  },
  "language_info": {
   "codemirror_mode": {
    "name": "ipython",
    "version": 3
   },
   "file_extension": ".py",
   "mimetype": "text/x-python",
   "name": "python",
   "nbconvert_exporter": "python",
   "pygments_lexer": "ipython3",
   "version": "3.7.5"
  }
 },
 "nbformat": 4,
 "nbformat_minor": 4
}
